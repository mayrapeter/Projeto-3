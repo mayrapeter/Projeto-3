{
 "cells": [
  {
   "cell_type": "markdown",
   "metadata": {},
   "source": [
    "\n",
    "# Ciência dos Dados - Projeto 3 #\n",
    "___\n",
    "\n",
    "### _Paulo Chavarelli, Lucas Mellis e Mayra Peter - 2C_ ###"
   ]
  },
  {
   "cell_type": "markdown",
   "metadata": {},
   "source": [
    "## Introdução ##\n",
    "\n",
    "Esse projeto é um projeto que utiliza de métodos de machine learning para responder a pergunta formulada pelo grupo, se houver um ataque terrorista no dia da posse presidencial de Jair Bolsonaro, dado que seria um ataque armado apenas com armas de fogo, quantas pessoas serão atingidas pelo atentado? Para responde-la, foi necessário primeiramente escolher um tema baseado nos datasets disponíveis na internet, no caso, o tema escolhido foi *global terrorism* e os dados foram coletados do dateset de link https://www.kaggle.com/START-UMD/gtd). Este contém diversas informações sobre atentados que aconteceram ao redor do mundo de 1970 até 2018.\n",
    "\n",
    "Primeiramente, as colunas do *dataframe* (em um primeiro momento 135) foram analisadas de acordo com a sua relevância, se os membros do grupo acharam que a coluna seria importante para responder a pergunta, ela permaneceu no *dataframe*. Caso contrário, ela foi retirada. Após a filtragem, feita no código abaixo, restaram 23 colunas para serem estudadas.\n",
    "\n",
    "No trabalho, foi observada a relação entre múltiplos fatores, como o tipo de arma e de ataque utilizado no atentado, o mês no qual o mesmo ocorreu, e o número de pessoas feridas e mortas no atentado com a finalidade de responder a pergunta previamente elaborada.\n",
    "___"
   ]
  },
  {
   "cell_type": "code",
   "execution_count": 1,
   "metadata": {},
   "outputs": [],
   "source": [
    "#Importando as bibliotecas\n",
    "\n",
    "%matplotlib inline\n",
    "\n",
    "import seaborn as sns\n",
    "import numpy as np\n",
    "import pandas as pd\n",
    "import matplotlib.pyplot as plt\n",
    "from scipy.stats import norm, probplot\n",
    "\n",
    "from mpl_toolkits.mplot3d import Axes3D\n",
    "from sklearn.ensemble import RandomForestClassifier\n",
    "from sklearn.tree import DecisionTreeClassifier\n",
    "from sklearn.model_selection import cross_val_score\n"
   ]
  },
  {
   "cell_type": "code",
   "execution_count": 2,
   "metadata": {
    "scrolled": true
   },
   "outputs": [
    {
     "name": "stderr",
     "output_type": "stream",
     "text": [
      "C:\\Users\\Lucas\\Nova pasta\\lib\\site-packages\\IPython\\core\\interactiveshell.py:2728: DtypeWarning: Columns (4,6,31,33,61,62,63,76,79,90,92,94,96,114,115,121) have mixed types. Specify dtype option on import or set low_memory=False.\n",
      "  interactivity=interactivity, compiler=compiler, result=result)\n"
     ]
    },
    {
     "data": {
      "text/html": [
       "<div>\n",
       "<style scoped>\n",
       "    .dataframe tbody tr th:only-of-type {\n",
       "        vertical-align: middle;\n",
       "    }\n",
       "\n",
       "    .dataframe tbody tr th {\n",
       "        vertical-align: top;\n",
       "    }\n",
       "\n",
       "    .dataframe thead th {\n",
       "        text-align: right;\n",
       "    }\n",
       "</style>\n",
       "<table border=\"1\" class=\"dataframe\">\n",
       "  <thead>\n",
       "    <tr style=\"text-align: right;\">\n",
       "      <th></th>\n",
       "      <th>eventid</th>\n",
       "      <th>iyear</th>\n",
       "      <th>imonth</th>\n",
       "      <th>iday</th>\n",
       "      <th>approxdate</th>\n",
       "      <th>extended</th>\n",
       "      <th>resolution</th>\n",
       "      <th>country</th>\n",
       "      <th>country_txt</th>\n",
       "      <th>region</th>\n",
       "      <th>...</th>\n",
       "      <th>addnotes</th>\n",
       "      <th>scite1</th>\n",
       "      <th>scite2</th>\n",
       "      <th>scite3</th>\n",
       "      <th>dbsource</th>\n",
       "      <th>INT_LOG</th>\n",
       "      <th>INT_IDEO</th>\n",
       "      <th>INT_MISC</th>\n",
       "      <th>INT_ANY</th>\n",
       "      <th>related</th>\n",
       "    </tr>\n",
       "  </thead>\n",
       "  <tbody>\n",
       "    <tr>\n",
       "      <th>0</th>\n",
       "      <td>197000000001</td>\n",
       "      <td>1970</td>\n",
       "      <td>7</td>\n",
       "      <td>2</td>\n",
       "      <td>NaN</td>\n",
       "      <td>0</td>\n",
       "      <td>NaN</td>\n",
       "      <td>58</td>\n",
       "      <td>Dominican Republic</td>\n",
       "      <td>2</td>\n",
       "      <td>...</td>\n",
       "      <td>NaN</td>\n",
       "      <td>NaN</td>\n",
       "      <td>NaN</td>\n",
       "      <td>NaN</td>\n",
       "      <td>PGIS</td>\n",
       "      <td>0</td>\n",
       "      <td>0</td>\n",
       "      <td>0</td>\n",
       "      <td>0</td>\n",
       "      <td>NaN</td>\n",
       "    </tr>\n",
       "    <tr>\n",
       "      <th>1</th>\n",
       "      <td>197000000002</td>\n",
       "      <td>1970</td>\n",
       "      <td>0</td>\n",
       "      <td>0</td>\n",
       "      <td>NaN</td>\n",
       "      <td>0</td>\n",
       "      <td>NaN</td>\n",
       "      <td>130</td>\n",
       "      <td>Mexico</td>\n",
       "      <td>1</td>\n",
       "      <td>...</td>\n",
       "      <td>NaN</td>\n",
       "      <td>NaN</td>\n",
       "      <td>NaN</td>\n",
       "      <td>NaN</td>\n",
       "      <td>PGIS</td>\n",
       "      <td>0</td>\n",
       "      <td>1</td>\n",
       "      <td>1</td>\n",
       "      <td>1</td>\n",
       "      <td>NaN</td>\n",
       "    </tr>\n",
       "    <tr>\n",
       "      <th>2</th>\n",
       "      <td>197001000001</td>\n",
       "      <td>1970</td>\n",
       "      <td>1</td>\n",
       "      <td>0</td>\n",
       "      <td>NaN</td>\n",
       "      <td>0</td>\n",
       "      <td>NaN</td>\n",
       "      <td>160</td>\n",
       "      <td>Philippines</td>\n",
       "      <td>5</td>\n",
       "      <td>...</td>\n",
       "      <td>NaN</td>\n",
       "      <td>NaN</td>\n",
       "      <td>NaN</td>\n",
       "      <td>NaN</td>\n",
       "      <td>PGIS</td>\n",
       "      <td>-9</td>\n",
       "      <td>-9</td>\n",
       "      <td>1</td>\n",
       "      <td>1</td>\n",
       "      <td>NaN</td>\n",
       "    </tr>\n",
       "    <tr>\n",
       "      <th>3</th>\n",
       "      <td>197001000002</td>\n",
       "      <td>1970</td>\n",
       "      <td>1</td>\n",
       "      <td>0</td>\n",
       "      <td>NaN</td>\n",
       "      <td>0</td>\n",
       "      <td>NaN</td>\n",
       "      <td>78</td>\n",
       "      <td>Greece</td>\n",
       "      <td>8</td>\n",
       "      <td>...</td>\n",
       "      <td>NaN</td>\n",
       "      <td>NaN</td>\n",
       "      <td>NaN</td>\n",
       "      <td>NaN</td>\n",
       "      <td>PGIS</td>\n",
       "      <td>-9</td>\n",
       "      <td>-9</td>\n",
       "      <td>1</td>\n",
       "      <td>1</td>\n",
       "      <td>NaN</td>\n",
       "    </tr>\n",
       "    <tr>\n",
       "      <th>4</th>\n",
       "      <td>197001000003</td>\n",
       "      <td>1970</td>\n",
       "      <td>1</td>\n",
       "      <td>0</td>\n",
       "      <td>NaN</td>\n",
       "      <td>0</td>\n",
       "      <td>NaN</td>\n",
       "      <td>101</td>\n",
       "      <td>Japan</td>\n",
       "      <td>4</td>\n",
       "      <td>...</td>\n",
       "      <td>NaN</td>\n",
       "      <td>NaN</td>\n",
       "      <td>NaN</td>\n",
       "      <td>NaN</td>\n",
       "      <td>PGIS</td>\n",
       "      <td>-9</td>\n",
       "      <td>-9</td>\n",
       "      <td>1</td>\n",
       "      <td>1</td>\n",
       "      <td>NaN</td>\n",
       "    </tr>\n",
       "  </tbody>\n",
       "</table>\n",
       "<p>5 rows × 135 columns</p>\n",
       "</div>"
      ],
      "text/plain": [
       "        eventid  iyear  imonth  iday approxdate  extended resolution  country  \\\n",
       "0  197000000001   1970       7     2        NaN         0        NaN       58   \n",
       "1  197000000002   1970       0     0        NaN         0        NaN      130   \n",
       "2  197001000001   1970       1     0        NaN         0        NaN      160   \n",
       "3  197001000002   1970       1     0        NaN         0        NaN       78   \n",
       "4  197001000003   1970       1     0        NaN         0        NaN      101   \n",
       "\n",
       "          country_txt  region   ...    addnotes scite1 scite2  scite3  \\\n",
       "0  Dominican Republic       2   ...         NaN    NaN    NaN     NaN   \n",
       "1              Mexico       1   ...         NaN    NaN    NaN     NaN   \n",
       "2         Philippines       5   ...         NaN    NaN    NaN     NaN   \n",
       "3              Greece       8   ...         NaN    NaN    NaN     NaN   \n",
       "4               Japan       4   ...         NaN    NaN    NaN     NaN   \n",
       "\n",
       "   dbsource  INT_LOG  INT_IDEO INT_MISC INT_ANY  related  \n",
       "0      PGIS        0         0        0       0      NaN  \n",
       "1      PGIS        0         1        1       1      NaN  \n",
       "2      PGIS       -9        -9        1       1      NaN  \n",
       "3      PGIS       -9        -9        1       1      NaN  \n",
       "4      PGIS       -9        -9        1       1      NaN  \n",
       "\n",
       "[5 rows x 135 columns]"
      ]
     },
     "execution_count": 2,
     "metadata": {},
     "output_type": "execute_result"
    }
   ],
   "source": [
    "#Criando o dataframe\n",
    "\n",
    "data = pd.read_csv(\"globalterrorismdb_0718dist.csv\")\n",
    "data.head(5)"
   ]
  },
  {
   "cell_type": "code",
   "execution_count": 3,
   "metadata": {},
   "outputs": [],
   "source": [
    "#Dividindo, deletando as colunas não relevantes para analise e tirando os NaN's.\n",
    "\n",
    "analise = data.iloc[:,0:40]\n",
    "anal = data.iloc[:,41:61]\n",
    "anal2 = data.iloc[:,61:81]\n",
    "anal3 = data.iloc[:,81:102]\n",
    "anal4 = data.iloc[:,102:122]\n",
    "anal5 = data.iloc[:,122:135]\n",
    "\n",
    "data_limpa = anal.drop(anal.columns[[1,2,3,4,5,6,7,8,9,10,11,12,13,14,15,16,18,19]], axis=1)\n",
    "data_limpa2 = anal2.drop(anal2.columns[[0,1,2,5,6,11,12,13,14,15,16,17,18,19]], axis=1)\n",
    "nova = data_limpa.join(data_limpa2)\n",
    "\n",
    "analise= analise.drop([\"approxdate\", \"resolution\", \"region\",\"provstate\",\"specificity\",\"vicinity\",\"location\",\"crit1\",\"crit2\",\"crit3\",\"alternative\",\"alternative_txt\",\"multiple\",\"attacktype2\",\"attacktype2_txt\",\"attacktype3\",\"attacktype3_txt\",\"targsubtype1\",\"targtype1\"], axis=1)\n",
    "\n",
    "nova2 = analise.join(nova)\n",
    "\n",
    "anal3= anal3.drop([\"weapsubtype1\", \"weaptype2\", \"weaptype2_txt\",\"weapsubtype2\",\"weapsubtype2_txt\",\"weaptype3\",\"weaptype3_txt\",\"weapsubtype3\",\"weapsubtype3_txt\",\"weaptype4\",\"weaptype4_txt\",\"weapsubtype4\",\"weapsubtype4_txt\",\"nkillus\",\"nkillter\"], axis=1)\n",
    "anal4= anal4.drop([\"nwoundus\", \"nwoundte\", \"ishostkid\",\"nhostkid\",\"nhostkidus\",\"nhours\",\"ndays\",\"divert\",\"kidhijcountry\",\"ransomamtus\",\"ransompaid\",\"ransompaidus\",\"ransomnote\",\"ransomamt\"], axis=1)\n",
    "anal5= anal5.drop([\"hostkidoutcome\", \"hostkidoutcome_txt\", \"nreleased\",\"related\"], axis=1)\n",
    "\n",
    "x = anal3.join(anal4)\n",
    "y = x.join(anal5)\n",
    "data_final = nova2.join(y)\n",
    "\n",
    "data_final = data_final.drop(['dbsource','scite3','nperps', 'nperpcap', 'claimed', 'weapsubtype1_txt', 'weapdetail', 'property', 'propextent', 'propvalue', 'propcomment', 'ransom', 'scite1', 'scite2','INT_LOG','INT_IDEO','INT_MISC','INT_ANY', 'motive', 'propextent_txt', 'addnotes', 'corp1', 'target1', 'natlty1_txt','extended', 'targsubtype1_txt','summary'], axis=1)"
   ]
  },
  {
   "cell_type": "code",
   "execution_count": 4,
   "metadata": {},
   "outputs": [],
   "source": [
    "#A coluna \"doubtterr\" representa a certeza de que o ataque realmente foi realmente terrorista.\n",
    "#Para doubtterr = 1, a incerteza é grande, o que significa que essas linhas não trazem dados certos para a analise.\n",
    "\n",
    "df = data_final[data_final.doubtterr != 1]\n",
    "df = df.drop(['doubtterr'], axis=1)"
   ]
  },
  {
   "cell_type": "code",
   "execution_count": 5,
   "metadata": {},
   "outputs": [],
   "source": [
    "#Tirando os NaN's\n",
    "\n",
    "df = df.dropna(axis=0, how='any', thresh=None, subset=None, inplace=False)"
   ]
  },
  {
   "cell_type": "code",
   "execution_count": 6,
   "metadata": {},
   "outputs": [],
   "source": [
    "#Tirando o mês \"0\"\n",
    "\n",
    "df = df[df.imonth != 0]"
   ]
  },
  {
   "cell_type": "code",
   "execution_count": 7,
   "metadata": {
    "scrolled": true
   },
   "outputs": [
    {
     "data": {
      "text/html": [
       "<div>\n",
       "<style scoped>\n",
       "    .dataframe tbody tr th:only-of-type {\n",
       "        vertical-align: middle;\n",
       "    }\n",
       "\n",
       "    .dataframe tbody tr th {\n",
       "        vertical-align: top;\n",
       "    }\n",
       "\n",
       "    .dataframe thead th {\n",
       "        text-align: right;\n",
       "    }\n",
       "</style>\n",
       "<table border=\"1\" class=\"dataframe\">\n",
       "  <thead>\n",
       "    <tr style=\"text-align: right;\">\n",
       "      <th></th>\n",
       "      <th>eventid</th>\n",
       "      <th>iyear</th>\n",
       "      <th>imonth</th>\n",
       "      <th>iday</th>\n",
       "      <th>country</th>\n",
       "      <th>country_txt</th>\n",
       "      <th>region_txt</th>\n",
       "      <th>city</th>\n",
       "      <th>latitude</th>\n",
       "      <th>longitude</th>\n",
       "      <th>...</th>\n",
       "      <th>attacktype1</th>\n",
       "      <th>attacktype1_txt</th>\n",
       "      <th>targtype1_txt</th>\n",
       "      <th>gname</th>\n",
       "      <th>guncertain1</th>\n",
       "      <th>individual</th>\n",
       "      <th>weaptype1</th>\n",
       "      <th>weaptype1_txt</th>\n",
       "      <th>nkill</th>\n",
       "      <th>nwound</th>\n",
       "    </tr>\n",
       "  </thead>\n",
       "  <tbody>\n",
       "    <tr>\n",
       "      <th>0</th>\n",
       "      <td>197000000001</td>\n",
       "      <td>1970</td>\n",
       "      <td>7</td>\n",
       "      <td>2</td>\n",
       "      <td>58</td>\n",
       "      <td>Dominican Republic</td>\n",
       "      <td>Central America &amp; Caribbean</td>\n",
       "      <td>Santo Domingo</td>\n",
       "      <td>18.456792</td>\n",
       "      <td>-69.951164</td>\n",
       "      <td>...</td>\n",
       "      <td>1</td>\n",
       "      <td>Assassination</td>\n",
       "      <td>Private Citizens &amp; Property</td>\n",
       "      <td>MANO-D</td>\n",
       "      <td>0.0</td>\n",
       "      <td>0</td>\n",
       "      <td>13</td>\n",
       "      <td>Unknown</td>\n",
       "      <td>1.0</td>\n",
       "      <td>0.0</td>\n",
       "    </tr>\n",
       "    <tr>\n",
       "      <th>2</th>\n",
       "      <td>197001000001</td>\n",
       "      <td>1970</td>\n",
       "      <td>1</td>\n",
       "      <td>0</td>\n",
       "      <td>160</td>\n",
       "      <td>Philippines</td>\n",
       "      <td>Southeast Asia</td>\n",
       "      <td>Unknown</td>\n",
       "      <td>15.478598</td>\n",
       "      <td>120.599741</td>\n",
       "      <td>...</td>\n",
       "      <td>1</td>\n",
       "      <td>Assassination</td>\n",
       "      <td>Journalists &amp; Media</td>\n",
       "      <td>Unknown</td>\n",
       "      <td>0.0</td>\n",
       "      <td>0</td>\n",
       "      <td>13</td>\n",
       "      <td>Unknown</td>\n",
       "      <td>1.0</td>\n",
       "      <td>0.0</td>\n",
       "    </tr>\n",
       "    <tr>\n",
       "      <th>5</th>\n",
       "      <td>197001010002</td>\n",
       "      <td>1970</td>\n",
       "      <td>1</td>\n",
       "      <td>1</td>\n",
       "      <td>217</td>\n",
       "      <td>United States</td>\n",
       "      <td>North America</td>\n",
       "      <td>Cairo</td>\n",
       "      <td>37.005105</td>\n",
       "      <td>-89.176269</td>\n",
       "      <td>...</td>\n",
       "      <td>2</td>\n",
       "      <td>Armed Assault</td>\n",
       "      <td>Police</td>\n",
       "      <td>Black Nationalists</td>\n",
       "      <td>0.0</td>\n",
       "      <td>0</td>\n",
       "      <td>5</td>\n",
       "      <td>Firearms</td>\n",
       "      <td>0.0</td>\n",
       "      <td>0.0</td>\n",
       "    </tr>\n",
       "    <tr>\n",
       "      <th>6</th>\n",
       "      <td>197001020001</td>\n",
       "      <td>1970</td>\n",
       "      <td>1</td>\n",
       "      <td>2</td>\n",
       "      <td>218</td>\n",
       "      <td>Uruguay</td>\n",
       "      <td>South America</td>\n",
       "      <td>Montevideo</td>\n",
       "      <td>-34.891151</td>\n",
       "      <td>-56.187214</td>\n",
       "      <td>...</td>\n",
       "      <td>1</td>\n",
       "      <td>Assassination</td>\n",
       "      <td>Police</td>\n",
       "      <td>Tupamaros (Uruguay)</td>\n",
       "      <td>0.0</td>\n",
       "      <td>0</td>\n",
       "      <td>5</td>\n",
       "      <td>Firearms</td>\n",
       "      <td>0.0</td>\n",
       "      <td>0.0</td>\n",
       "    </tr>\n",
       "    <tr>\n",
       "      <th>8</th>\n",
       "      <td>197001020003</td>\n",
       "      <td>1970</td>\n",
       "      <td>1</td>\n",
       "      <td>2</td>\n",
       "      <td>217</td>\n",
       "      <td>United States</td>\n",
       "      <td>North America</td>\n",
       "      <td>Madison</td>\n",
       "      <td>43.076592</td>\n",
       "      <td>-89.412488</td>\n",
       "      <td>...</td>\n",
       "      <td>7</td>\n",
       "      <td>Facility/Infrastructure Attack</td>\n",
       "      <td>Military</td>\n",
       "      <td>New Year's Gang</td>\n",
       "      <td>0.0</td>\n",
       "      <td>0</td>\n",
       "      <td>8</td>\n",
       "      <td>Incendiary</td>\n",
       "      <td>0.0</td>\n",
       "      <td>0.0</td>\n",
       "    </tr>\n",
       "  </tbody>\n",
       "</table>\n",
       "<p>5 rows × 22 columns</p>\n",
       "</div>"
      ],
      "text/plain": [
       "        eventid  iyear  imonth  iday  country         country_txt  \\\n",
       "0  197000000001   1970       7     2       58  Dominican Republic   \n",
       "2  197001000001   1970       1     0      160         Philippines   \n",
       "5  197001010002   1970       1     1      217       United States   \n",
       "6  197001020001   1970       1     2      218             Uruguay   \n",
       "8  197001020003   1970       1     2      217       United States   \n",
       "\n",
       "                    region_txt           city   latitude   longitude  ...    \\\n",
       "0  Central America & Caribbean  Santo Domingo  18.456792  -69.951164  ...     \n",
       "2               Southeast Asia        Unknown  15.478598  120.599741  ...     \n",
       "5                North America          Cairo  37.005105  -89.176269  ...     \n",
       "6                South America     Montevideo -34.891151  -56.187214  ...     \n",
       "8                North America        Madison  43.076592  -89.412488  ...     \n",
       "\n",
       "   attacktype1                 attacktype1_txt                targtype1_txt  \\\n",
       "0            1                   Assassination  Private Citizens & Property   \n",
       "2            1                   Assassination          Journalists & Media   \n",
       "5            2                   Armed Assault                       Police   \n",
       "6            1                   Assassination                       Police   \n",
       "8            7  Facility/Infrastructure Attack                     Military   \n",
       "\n",
       "                 gname guncertain1 individual  weaptype1  weaptype1_txt  \\\n",
       "0               MANO-D         0.0          0         13        Unknown   \n",
       "2              Unknown         0.0          0         13        Unknown   \n",
       "5   Black Nationalists         0.0          0          5       Firearms   \n",
       "6  Tupamaros (Uruguay)         0.0          0          5       Firearms   \n",
       "8      New Year's Gang         0.0          0          8     Incendiary   \n",
       "\n",
       "   nkill nwound  \n",
       "0    1.0    0.0  \n",
       "2    1.0    0.0  \n",
       "5    0.0    0.0  \n",
       "6    0.0    0.0  \n",
       "8    0.0    0.0  \n",
       "\n",
       "[5 rows x 22 columns]"
      ]
     },
     "execution_count": 7,
     "metadata": {},
     "output_type": "execute_result"
    }
   ],
   "source": [
    "#Nova planilha\n",
    "\n",
    "df.head(5)"
   ]
  },
  {
   "cell_type": "markdown",
   "metadata": {},
   "source": [
    "## Adaptando e obtendo dados para análise:\n",
    "\n",
    "Com o objetivo de obter uma melhor acurácia na resposta da pergunta, foi utilizado o número de pessoas atingidas. Para isso foi preciso somar a coluna do numero de mortos com a coluna do numero de feridos, contudo isso ainda nos gera numeros e para usar o metodo random forest é necessário converter esses numeros para variáveis qualitativas, criando uma nova coluna como foi feito abaixo.\n",
    "_____\n",
    "Legenda: *0 = Nenhum(a), maior ou igual à 1 e menor que 50 = Poucos(as), maior ou igual à 50 e menor que 300 = Muitos(as), maior ou igual à 300 = Catastróficos(as)*"
   ]
  },
  {
   "cell_type": "code",
   "execution_count": 8,
   "metadata": {},
   "outputs": [],
   "source": [
    "#Adicionando a coluna \"Atingidos\"\n",
    "\n",
    "df['Atingidos'] = df['nkill'] + df['nwound']"
   ]
  },
  {
   "cell_type": "code",
   "execution_count": 9,
   "metadata": {},
   "outputs": [
    {
     "name": "stderr",
     "output_type": "stream",
     "text": [
      "C:\\Users\\Lucas\\Nova pasta\\lib\\site-packages\\ipykernel_launcher.py:4: SettingWithCopyWarning: \n",
      "A value is trying to be set on a copy of a slice from a DataFrame\n",
      "\n",
      "See the caveats in the documentation: http://pandas.pydata.org/pandas-docs/stable/indexing.html#indexing-view-versus-copy\n",
      "  after removing the cwd from sys.path.\n",
      "C:\\Users\\Lucas\\Nova pasta\\lib\\site-packages\\ipykernel_launcher.py:5: SettingWithCopyWarning: \n",
      "A value is trying to be set on a copy of a slice from a DataFrame\n",
      "\n",
      "See the caveats in the documentation: http://pandas.pydata.org/pandas-docs/stable/indexing.html#indexing-view-versus-copy\n",
      "  \"\"\"\n",
      "C:\\Users\\Lucas\\Nova pasta\\lib\\site-packages\\ipykernel_launcher.py:6: SettingWithCopyWarning: \n",
      "A value is trying to be set on a copy of a slice from a DataFrame\n",
      "\n",
      "See the caveats in the documentation: http://pandas.pydata.org/pandas-docs/stable/indexing.html#indexing-view-versus-copy\n",
      "  \n",
      "C:\\Users\\Lucas\\Nova pasta\\lib\\site-packages\\ipykernel_launcher.py:9: SettingWithCopyWarning: \n",
      "A value is trying to be set on a copy of a slice from a DataFrame\n",
      "\n",
      "See the caveats in the documentation: http://pandas.pydata.org/pandas-docs/stable/indexing.html#indexing-view-versus-copy\n",
      "  if __name__ == '__main__':\n",
      "C:\\Users\\Lucas\\Nova pasta\\lib\\site-packages\\ipykernel_launcher.py:10: SettingWithCopyWarning: \n",
      "A value is trying to be set on a copy of a slice from a DataFrame\n",
      "\n",
      "See the caveats in the documentation: http://pandas.pydata.org/pandas-docs/stable/indexing.html#indexing-view-versus-copy\n",
      "  # Remove the CWD from sys.path while we load stuff.\n",
      "C:\\Users\\Lucas\\Nova pasta\\lib\\site-packages\\ipykernel_launcher.py:11: SettingWithCopyWarning: \n",
      "A value is trying to be set on a copy of a slice from a DataFrame\n",
      "\n",
      "See the caveats in the documentation: http://pandas.pydata.org/pandas-docs/stable/indexing.html#indexing-view-versus-copy\n",
      "  # This is added back by InteractiveShellApp.init_path()\n",
      "C:\\Users\\Lucas\\Nova pasta\\lib\\site-packages\\ipykernel_launcher.py:14: SettingWithCopyWarning: \n",
      "A value is trying to be set on a copy of a slice from a DataFrame\n",
      "\n",
      "See the caveats in the documentation: http://pandas.pydata.org/pandas-docs/stable/indexing.html#indexing-view-versus-copy\n",
      "  \n",
      "C:\\Users\\Lucas\\Nova pasta\\lib\\site-packages\\ipykernel_launcher.py:15: SettingWithCopyWarning: \n",
      "A value is trying to be set on a copy of a slice from a DataFrame\n",
      "\n",
      "See the caveats in the documentation: http://pandas.pydata.org/pandas-docs/stable/indexing.html#indexing-view-versus-copy\n",
      "  from ipykernel import kernelapp as app\n",
      "C:\\Users\\Lucas\\Nova pasta\\lib\\site-packages\\ipykernel_launcher.py:16: SettingWithCopyWarning: \n",
      "A value is trying to be set on a copy of a slice from a DataFrame\n",
      "\n",
      "See the caveats in the documentation: http://pandas.pydata.org/pandas-docs/stable/indexing.html#indexing-view-versus-copy\n",
      "  app.launch_new_instance()\n"
     ]
    }
   ],
   "source": [
    "#Adicionando as colunas que classificam o número de mortos, feridos e atingidos\n",
    "\n",
    "df['Mortes'] = 'Nenhuma'\n",
    "df['Mortes'][(df['nkill'] >= 1) & (df['nkill'] < 50)] = 'Poucas'\n",
    "df['Mortes'][(df['nkill'] >= 50) & (df['nkill'] < 300)] = 'Muitas'\n",
    "df['Mortes'][(df['nkill'] > 300)] = 'Catastróficas'\n",
    "\n",
    "df['Feridos'] = 'Nenhum'\n",
    "df['Feridos'][(df['nwound'] >= 1) & (df['nwound'] < 50)] = 'Poucos'\n",
    "df['Feridos'][(df['nwound'] >= 50) & (df['nwound'] < 300)] = 'Muitos'\n",
    "df['Feridos'][(df['nwound'] > 300)] = 'Catastrófico'\n",
    "\n",
    "df['Atingidos2'] = 'Nenhum'\n",
    "df['Atingidos2'][(df['Atingidos'] >= 1) & (df['Atingidos'] < 50)] = 'Poucos'\n",
    "df['Atingidos2'][(df['Atingidos'] >= 50) & (df['Atingidos'] < 300)] = 'Muitos'\n",
    "df['Atingidos2'][(df['Atingidos'] > 300)] = 'Catastrófico'"
   ]
  },
  {
   "cell_type": "code",
   "execution_count": 10,
   "metadata": {
    "scrolled": true
   },
   "outputs": [
    {
     "data": {
      "text/html": [
       "<div>\n",
       "<style scoped>\n",
       "    .dataframe tbody tr th:only-of-type {\n",
       "        vertical-align: middle;\n",
       "    }\n",
       "\n",
       "    .dataframe tbody tr th {\n",
       "        vertical-align: top;\n",
       "    }\n",
       "\n",
       "    .dataframe thead th {\n",
       "        text-align: right;\n",
       "    }\n",
       "</style>\n",
       "<table border=\"1\" class=\"dataframe\">\n",
       "  <thead>\n",
       "    <tr style=\"text-align: right;\">\n",
       "      <th></th>\n",
       "      <th>eventid</th>\n",
       "      <th>iyear</th>\n",
       "      <th>imonth</th>\n",
       "      <th>iday</th>\n",
       "      <th>country</th>\n",
       "      <th>country_txt</th>\n",
       "      <th>region_txt</th>\n",
       "      <th>city</th>\n",
       "      <th>latitude</th>\n",
       "      <th>longitude</th>\n",
       "      <th>...</th>\n",
       "      <th>guncertain1</th>\n",
       "      <th>individual</th>\n",
       "      <th>weaptype1</th>\n",
       "      <th>weaptype1_txt</th>\n",
       "      <th>nkill</th>\n",
       "      <th>nwound</th>\n",
       "      <th>Atingidos</th>\n",
       "      <th>Mortes</th>\n",
       "      <th>Feridos</th>\n",
       "      <th>Atingidos2</th>\n",
       "    </tr>\n",
       "  </thead>\n",
       "  <tbody>\n",
       "    <tr>\n",
       "      <th>0</th>\n",
       "      <td>197000000001</td>\n",
       "      <td>1970</td>\n",
       "      <td>7</td>\n",
       "      <td>2</td>\n",
       "      <td>58</td>\n",
       "      <td>Dominican Republic</td>\n",
       "      <td>Central America &amp; Caribbean</td>\n",
       "      <td>Santo Domingo</td>\n",
       "      <td>18.456792</td>\n",
       "      <td>-69.951164</td>\n",
       "      <td>...</td>\n",
       "      <td>0.0</td>\n",
       "      <td>0</td>\n",
       "      <td>13</td>\n",
       "      <td>Unknown</td>\n",
       "      <td>1.0</td>\n",
       "      <td>0.0</td>\n",
       "      <td>1.0</td>\n",
       "      <td>Poucas</td>\n",
       "      <td>Nenhum</td>\n",
       "      <td>Poucos</td>\n",
       "    </tr>\n",
       "    <tr>\n",
       "      <th>2</th>\n",
       "      <td>197001000001</td>\n",
       "      <td>1970</td>\n",
       "      <td>1</td>\n",
       "      <td>0</td>\n",
       "      <td>160</td>\n",
       "      <td>Philippines</td>\n",
       "      <td>Southeast Asia</td>\n",
       "      <td>Unknown</td>\n",
       "      <td>15.478598</td>\n",
       "      <td>120.599741</td>\n",
       "      <td>...</td>\n",
       "      <td>0.0</td>\n",
       "      <td>0</td>\n",
       "      <td>13</td>\n",
       "      <td>Unknown</td>\n",
       "      <td>1.0</td>\n",
       "      <td>0.0</td>\n",
       "      <td>1.0</td>\n",
       "      <td>Poucas</td>\n",
       "      <td>Nenhum</td>\n",
       "      <td>Poucos</td>\n",
       "    </tr>\n",
       "    <tr>\n",
       "      <th>5</th>\n",
       "      <td>197001010002</td>\n",
       "      <td>1970</td>\n",
       "      <td>1</td>\n",
       "      <td>1</td>\n",
       "      <td>217</td>\n",
       "      <td>United States</td>\n",
       "      <td>North America</td>\n",
       "      <td>Cairo</td>\n",
       "      <td>37.005105</td>\n",
       "      <td>-89.176269</td>\n",
       "      <td>...</td>\n",
       "      <td>0.0</td>\n",
       "      <td>0</td>\n",
       "      <td>5</td>\n",
       "      <td>Firearms</td>\n",
       "      <td>0.0</td>\n",
       "      <td>0.0</td>\n",
       "      <td>0.0</td>\n",
       "      <td>Nenhuma</td>\n",
       "      <td>Nenhum</td>\n",
       "      <td>Nenhum</td>\n",
       "    </tr>\n",
       "    <tr>\n",
       "      <th>6</th>\n",
       "      <td>197001020001</td>\n",
       "      <td>1970</td>\n",
       "      <td>1</td>\n",
       "      <td>2</td>\n",
       "      <td>218</td>\n",
       "      <td>Uruguay</td>\n",
       "      <td>South America</td>\n",
       "      <td>Montevideo</td>\n",
       "      <td>-34.891151</td>\n",
       "      <td>-56.187214</td>\n",
       "      <td>...</td>\n",
       "      <td>0.0</td>\n",
       "      <td>0</td>\n",
       "      <td>5</td>\n",
       "      <td>Firearms</td>\n",
       "      <td>0.0</td>\n",
       "      <td>0.0</td>\n",
       "      <td>0.0</td>\n",
       "      <td>Nenhuma</td>\n",
       "      <td>Nenhum</td>\n",
       "      <td>Nenhum</td>\n",
       "    </tr>\n",
       "    <tr>\n",
       "      <th>8</th>\n",
       "      <td>197001020003</td>\n",
       "      <td>1970</td>\n",
       "      <td>1</td>\n",
       "      <td>2</td>\n",
       "      <td>217</td>\n",
       "      <td>United States</td>\n",
       "      <td>North America</td>\n",
       "      <td>Madison</td>\n",
       "      <td>43.076592</td>\n",
       "      <td>-89.412488</td>\n",
       "      <td>...</td>\n",
       "      <td>0.0</td>\n",
       "      <td>0</td>\n",
       "      <td>8</td>\n",
       "      <td>Incendiary</td>\n",
       "      <td>0.0</td>\n",
       "      <td>0.0</td>\n",
       "      <td>0.0</td>\n",
       "      <td>Nenhuma</td>\n",
       "      <td>Nenhum</td>\n",
       "      <td>Nenhum</td>\n",
       "    </tr>\n",
       "  </tbody>\n",
       "</table>\n",
       "<p>5 rows × 26 columns</p>\n",
       "</div>"
      ],
      "text/plain": [
       "        eventid  iyear  imonth  iday  country         country_txt  \\\n",
       "0  197000000001   1970       7     2       58  Dominican Republic   \n",
       "2  197001000001   1970       1     0      160         Philippines   \n",
       "5  197001010002   1970       1     1      217       United States   \n",
       "6  197001020001   1970       1     2      218             Uruguay   \n",
       "8  197001020003   1970       1     2      217       United States   \n",
       "\n",
       "                    region_txt           city   latitude   longitude  \\\n",
       "0  Central America & Caribbean  Santo Domingo  18.456792  -69.951164   \n",
       "2               Southeast Asia        Unknown  15.478598  120.599741   \n",
       "5                North America          Cairo  37.005105  -89.176269   \n",
       "6                South America     Montevideo -34.891151  -56.187214   \n",
       "8                North America        Madison  43.076592  -89.412488   \n",
       "\n",
       "     ...      guncertain1  individual  weaptype1 weaptype1_txt nkill nwound  \\\n",
       "0    ...              0.0           0         13       Unknown   1.0    0.0   \n",
       "2    ...              0.0           0         13       Unknown   1.0    0.0   \n",
       "5    ...              0.0           0          5      Firearms   0.0    0.0   \n",
       "6    ...              0.0           0          5      Firearms   0.0    0.0   \n",
       "8    ...              0.0           0          8    Incendiary   0.0    0.0   \n",
       "\n",
       "   Atingidos   Mortes  Feridos Atingidos2  \n",
       "0        1.0   Poucas   Nenhum     Poucos  \n",
       "2        1.0   Poucas   Nenhum     Poucos  \n",
       "5        0.0  Nenhuma   Nenhum     Nenhum  \n",
       "6        0.0  Nenhuma   Nenhum     Nenhum  \n",
       "8        0.0  Nenhuma   Nenhum     Nenhum  \n",
       "\n",
       "[5 rows x 26 columns]"
      ]
     },
     "execution_count": 10,
     "metadata": {},
     "output_type": "execute_result"
    }
   ],
   "source": [
    "#Nova planilha\n",
    "\n",
    "df.head(5)"
   ]
  },
  {
   "cell_type": "markdown",
   "metadata": {},
   "source": [
    "## Analise exploratória:\n",
    "\n",
    "Para verificar quais variaveis seriam mais adequadas e fariam mais sentido para responder a pergunta, foi feita uma analise exploratória dos dados a fim de se observar a correlação e como eles se comportam quando comparadados um ao outro.\n",
    "\n",
    "_________"
   ]
  },
  {
   "cell_type": "markdown",
   "metadata": {},
   "source": [
    "### Relação entre o ano de ocorrência e o número de mortos, feridos e atingidos"
   ]
  },
  {
   "cell_type": "code",
   "execution_count": 11,
   "metadata": {},
   "outputs": [
    {
     "name": "stdout",
     "output_type": "stream",
     "text": [
      "A correlação entre o ano de ocorrência e o número de mortes é: 0.02369037158407735\n",
      "A correlação entre o ano de ocorrência e o número de feridos é: 0.015594860165755925\n",
      "A correlação entre o ano de ocorrência e o número de atingidos é: 0.01832426770288146\n"
     ]
    },
    {
     "data": {
      "image/png": "[encoded data removed]",
      "text/plain": [
       "<matplotlib.figure.Figure at 0x182f3b67048>"
      ]
     },
     "metadata": {},
     "output_type": "display_data"
    },
    {
     "data": {
      "image/png": "[encoded data removed]",
      "text/plain": [
       "<matplotlib.figure.Figure at 0x18287412da0>"
      ]
     },
     "metadata": {},
     "output_type": "display_data"
    },
    {
     "data": {
      "image/png": "[encoded data removed]",
      "text/plain": [
       "<matplotlib.figure.Figure at 0x18286cbaf60>"
      ]
     },
     "metadata": {},
     "output_type": "display_data"
    }
   ],
   "source": [
    "print('A correlação entre o ano de ocorrência e o número de mortes é:', df['iyear'].corr(df['nkill']))\n",
    "df.plot.hist(x='nkill',y='iyear');\n",
    "\n",
    "print('A correlação entre o ano de ocorrência e o número de feridos é:',df['iyear'].corr(df['nwound']))\n",
    "df.plot.hist(x='nwound',y='iyear');\n",
    "\n",
    "print('A correlação entre o ano de ocorrência e o número de atingidos é:',df['iyear'].corr(df['Atingidos']))\n",
    "df.plot.hist(x='Atingidos',y='iyear');"
   ]
  },
  {
   "cell_type": "markdown",
   "metadata": {},
   "source": [
    "Como se pode ver, há uma baixa correlação entre o ano em que o atentado ocorreu e o número de mortos, feridos e atingidos, podendo inferir que o ano não diz nada sobre o  número de pessoas envolvidas. Porém é possível analisar que de 1970 até 1990 os três valores citados anteriormente são majoritariamente crescentes. De 1990 até aproximadade 2001, os mesmos valores diminuem e depois, o número de mortos, feridos e atingidos volta a crescer em uma taxa acelerada."
   ]
  },
  {
   "cell_type": "markdown",
   "metadata": {},
   "source": [
    "### Relação entre a arma utilizada e o número de mortos, feridos e atingidos"
   ]
  },
  {
   "cell_type": "code",
   "execution_count": 12,
   "metadata": {},
   "outputs": [
    {
     "name": "stdout",
     "output_type": "stream",
     "text": [
      "A correlação entre o tipo de ataque e o número de mortes é: -0.010592339360488168\n",
      "A correlação entre o tipo de ataque e o número de feridos é: -0.0006988399254606346\n",
      "A correlação entre o tipo de ataque e o número de atingidos é: -0.002783529940824504\n"
     ]
    },
    {
     "data": {
      "image/png": "[encoded data removed]",
      "text/plain": [
       "<matplotlib.figure.Figure at 0x18286cd70b8>"
      ]
     },
     "metadata": {},
     "output_type": "display_data"
    },
    {
     "data": {
      "image/png": "[encoded data removed]",
      "text/plain": [
       "<matplotlib.figure.Figure at 0x18286c0eef0>"
      ]
     },
     "metadata": {},
     "output_type": "display_data"
    },
    {
     "data": {
      "image/png": "[encoded data removed]",
      "text/plain": [
       "<matplotlib.figure.Figure at 0x18286c918d0>"
      ]
     },
     "metadata": {},
     "output_type": "display_data"
    }
   ],
   "source": [
    "print('A correlação entre o tipo de ataque e o número de mortes é:',df['attacktype1'].corr(df['nkill']))\n",
    "df.plot.hist(x='nkill',y='attacktype1', density = True);\n",
    "\n",
    "print('A correlação entre o tipo de ataque e o número de feridos é:',df['attacktype1'].corr(df['nwound']))\n",
    "df.plot.hist(x='nwound',y='attacktype1');\n",
    "\n",
    "print('A correlação entre o tipo de ataque e o número de atingidos é:',df['attacktype1'].corr(df['Atingidos']))\n",
    "df.plot.hist(x='Atingidos',y='attacktype1');"
   ]
  },
  {
   "cell_type": "markdown",
   "metadata": {},
   "source": [
    "Apesar da baixa correlação, é possível analisar que o tipo 3 de ataque (explosão/bombardeamento) é o mais comum."
   ]
  },
  {
   "cell_type": "code",
   "execution_count": 13,
   "metadata": {
    "scrolled": false
   },
   "outputs": [
    {
     "data": {
      "image/png": "[encoded data removed]",
      "text/plain": [
       "<matplotlib.figure.Figure at 0x182867239e8>"
      ]
     },
     "metadata": {},
     "output_type": "display_data"
    }
   ],
   "source": [
    "df['imonth'].value_counts().plot(kind='pie');\n",
    "plt.title('Mês do ano');\n",
    "plt.axis('equal');"
   ]
  },
  {
   "cell_type": "markdown",
   "metadata": {},
   "source": [
    "Observando-se o gráfico acima é possivel constatar que os atentados seguem bem destribuidos ao longo do ano, ou seja, não há nenhum mês que chame a atenção por possuir mais ataques."
   ]
  },
  {
   "cell_type": "code",
   "execution_count": 14,
   "metadata": {},
   "outputs": [
    {
     "data": {
      "image/png": "[encoded data removed]",
      "text/plain": [
       "<matplotlib.figure.Figure at 0x18286723fd0>"
      ]
     },
     "metadata": {},
     "output_type": "display_data"
    }
   ],
   "source": [
    "df['attacktype1'].value_counts().plot(kind='pie');\n",
    "plt.title('Tipo de ataque');\n",
    "plt.axis('equal');"
   ]
  },
  {
   "cell_type": "markdown",
   "metadata": {},
   "source": [
    "Lengenda: \n",
    "\n",
    "1 = Assassinato;\n",
    "2 =  Ataque Armado;\n",
    "3 = Explosão/Bombardeamento;\n",
    "4 = Sequestro;\n",
    "5 = Tomada de reféns (incidente de barricada);\n",
    "6 = Tomada de reféns (sequestro);\n",
    "7 = Ataque em infraestrutura;\n",
    "8 = Ataque não armado;\n",
    "9 = Desconhecido\n",
    "\n",
    "____________"
   ]
  },
  {
   "cell_type": "markdown",
   "metadata": {},
   "source": [
    "De acordo com o gráfico acima, pode-se perceber que o tipo de ataque 3, no caso Explosão/Bombardeamento, é o mais comum, seguido pelo 2 que é Assalto Armado."
   ]
  },
  {
   "cell_type": "code",
   "execution_count": 15,
   "metadata": {
    "scrolled": true
   },
   "outputs": [
    {
     "data": {
      "image/png": "[encoded data removed]",
      "text/plain": [
       "<matplotlib.figure.Figure at 0x18286b150b8>"
      ]
     },
     "metadata": {},
     "output_type": "display_data"
    }
   ],
   "source": [
    "df['weaptype1'].value_counts().plot(kind='pie');\n",
    "plt.title('Tipo de arma');\n",
    "plt.axis('equal');"
   ]
  },
  {
   "cell_type": "markdown",
   "metadata": {},
   "source": [
    "Legenda: \n",
    "\n",
    "1 = Arma biológica;\n",
    "2 = Arma química;\n",
    "3 = Arma radiológica;\n",
    "5 = Arma de fogo;\n",
    "6 = Explosivos;\n",
    "7 = Armas falsas;\n",
    "8 = Armas incendiárias;\n",
    "9 = Melee;\n",
    "10 = Veículos;\n",
    "11 = Equipamento de sabotagem;\n",
    "12 = Outro;\n",
    "13 = Desconhecido\n",
    "\n",
    "___________"
   ]
  },
  {
   "cell_type": "markdown",
   "metadata": {},
   "source": [
    "De acordo com o gráfico acima, pode-se perceber que o tipo de arma 6 (Explosivos) é o mais comum, seguido pelo 5 (Armas de fogo)"
   ]
  },
  {
   "cell_type": "code",
   "execution_count": 16,
   "metadata": {
    "scrolled": false
   },
   "outputs": [
    {
     "data": {
      "image/png": "[encoded data removed]",
      "text/plain": [
       "<matplotlib.figure.Figure at 0x18286ba5c50>"
      ]
     },
     "metadata": {},
     "output_type": "display_data"
    }
   ],
   "source": [
    "df['Atingidos2'].value_counts().plot(kind='pie');\n",
    "plt.axis('equal');"
   ]
  },
  {
   "cell_type": "markdown",
   "metadata": {},
   "source": [
    "De acordo com o gráfico acima, pode-se perceber que na grande maioria dos atentados terroristas, há poucos atingidos ou nenhum atingido"
   ]
  },
  {
   "cell_type": "markdown",
   "metadata": {},
   "source": [
    "# Scikit Learn:\n",
    "\n",
    "Para conseguir prever qual seria o número de atingidos foi utilizado o método do random forest. Esse método é um algoritimo de aprendizagem que consiste em construir várias árvores preditivas e juntar todas para obter uma predição mais correta e uma maior acurácia. Para poder utilizá-lo, foi necessário separar as colunas que faziam sentido após a analise exploratoria das variáveis. Dessa forma, foram utilizadas para a previsão somente o mês, a numeração do país, a  numeração do tipo de ataque e a numeração do tipo de arma utilizada para prever quantas pessoas seriam atingidas.\n",
    "________"
   ]
  },
  {
   "cell_type": "code",
   "execution_count": 17,
   "metadata": {},
   "outputs": [],
   "source": [
    "#Como o número de atingidos será a variável a sr prevista, Atingidos2 sera a classe"
   ]
  },
  {
   "cell_type": "code",
   "execution_count": 18,
   "metadata": {},
   "outputs": [],
   "source": [
    "#Criando um novo dataset apenas com as colunas relevantes para a análise\n",
    "\n",
    "data0=df['country']\n",
    "#Classe\n",
    "data1=df['Atingidos2']\n",
    "data2=df['weaptype1']\n",
    "data3=df['attacktype1']\n",
    "data4=df['imonth']\n",
    "\n",
    "data=pd.DataFrame(data4)\n",
    "\n",
    "data['attacktype1']=data3\n",
    "data['weaptype1']=data2\n",
    "data['country']=data0\n",
    "data['Class']=data1\n",
    "\n",
    "data.columns=['Mês','Tipo ataque','Tipo arma','País','Atingidos']"
   ]
  },
  {
   "cell_type": "code",
   "execution_count": 19,
   "metadata": {},
   "outputs": [
    {
     "data": {
      "text/html": [
       "<div>\n",
       "<style scoped>\n",
       "    .dataframe tbody tr th:only-of-type {\n",
       "        vertical-align: middle;\n",
       "    }\n",
       "\n",
       "    .dataframe tbody tr th {\n",
       "        vertical-align: top;\n",
       "    }\n",
       "\n",
       "    .dataframe thead th {\n",
       "        text-align: right;\n",
       "    }\n",
       "</style>\n",
       "<table border=\"1\" class=\"dataframe\">\n",
       "  <thead>\n",
       "    <tr style=\"text-align: right;\">\n",
       "      <th></th>\n",
       "      <th>Mês</th>\n",
       "      <th>Tipo ataque</th>\n",
       "      <th>Tipo arma</th>\n",
       "      <th>País</th>\n",
       "      <th>Atingidos</th>\n",
       "    </tr>\n",
       "  </thead>\n",
       "  <tbody>\n",
       "    <tr>\n",
       "      <th>0</th>\n",
       "      <td>7</td>\n",
       "      <td>1</td>\n",
       "      <td>13</td>\n",
       "      <td>58</td>\n",
       "      <td>Poucos</td>\n",
       "    </tr>\n",
       "    <tr>\n",
       "      <th>2</th>\n",
       "      <td>1</td>\n",
       "      <td>1</td>\n",
       "      <td>13</td>\n",
       "      <td>160</td>\n",
       "      <td>Poucos</td>\n",
       "    </tr>\n",
       "    <tr>\n",
       "      <th>5</th>\n",
       "      <td>1</td>\n",
       "      <td>2</td>\n",
       "      <td>5</td>\n",
       "      <td>217</td>\n",
       "      <td>Nenhum</td>\n",
       "    </tr>\n",
       "    <tr>\n",
       "      <th>6</th>\n",
       "      <td>1</td>\n",
       "      <td>1</td>\n",
       "      <td>5</td>\n",
       "      <td>218</td>\n",
       "      <td>Nenhum</td>\n",
       "    </tr>\n",
       "    <tr>\n",
       "      <th>8</th>\n",
       "      <td>1</td>\n",
       "      <td>7</td>\n",
       "      <td>8</td>\n",
       "      <td>217</td>\n",
       "      <td>Nenhum</td>\n",
       "    </tr>\n",
       "  </tbody>\n",
       "</table>\n",
       "</div>"
      ],
      "text/plain": [
       "   Mês  Tipo ataque  Tipo arma  País Atingidos\n",
       "0    7            1         13    58    Poucos\n",
       "2    1            1         13   160    Poucos\n",
       "5    1            2          5   217    Nenhum\n",
       "6    1            1          5   218    Nenhum\n",
       "8    1            7          8   217    Nenhum"
      ]
     },
     "execution_count": 19,
     "metadata": {},
     "output_type": "execute_result"
    }
   ],
   "source": [
    "#novo dataset\n",
    "\n",
    "data.head(5)"
   ]
  },
  {
   "cell_type": "markdown",
   "metadata": {},
   "source": [
    "## Criando features:"
   ]
  },
  {
   "cell_type": "code",
   "execution_count": 20,
   "metadata": {
    "scrolled": true
   },
   "outputs": [
    {
     "data": {
      "text/html": [
       "<div>\n",
       "<style scoped>\n",
       "    .dataframe tbody tr th:only-of-type {\n",
       "        vertical-align: middle;\n",
       "    }\n",
       "\n",
       "    .dataframe tbody tr th {\n",
       "        vertical-align: top;\n",
       "    }\n",
       "\n",
       "    .dataframe thead th {\n",
       "        text-align: right;\n",
       "    }\n",
       "</style>\n",
       "<table border=\"1\" class=\"dataframe\">\n",
       "  <thead>\n",
       "    <tr style=\"text-align: right;\">\n",
       "      <th></th>\n",
       "      <th>Mês</th>\n",
       "      <th>Tipo ataque</th>\n",
       "      <th>Tipo arma</th>\n",
       "      <th>País</th>\n",
       "      <th>Atingidos</th>\n",
       "      <th>Ataque acima da media</th>\n",
       "      <th>Arma acima da media</th>\n",
       "      <th>Mês acima da média</th>\n",
       "      <th>País acima da media</th>\n",
       "    </tr>\n",
       "  </thead>\n",
       "  <tbody>\n",
       "    <tr>\n",
       "      <th>0</th>\n",
       "      <td>7</td>\n",
       "      <td>1</td>\n",
       "      <td>13</td>\n",
       "      <td>58</td>\n",
       "      <td>Poucos</td>\n",
       "      <td>False</td>\n",
       "      <td>True</td>\n",
       "      <td>True</td>\n",
       "      <td>False</td>\n",
       "    </tr>\n",
       "    <tr>\n",
       "      <th>2</th>\n",
       "      <td>1</td>\n",
       "      <td>1</td>\n",
       "      <td>13</td>\n",
       "      <td>160</td>\n",
       "      <td>Poucos</td>\n",
       "      <td>False</td>\n",
       "      <td>True</td>\n",
       "      <td>False</td>\n",
       "      <td>True</td>\n",
       "    </tr>\n",
       "    <tr>\n",
       "      <th>5</th>\n",
       "      <td>1</td>\n",
       "      <td>2</td>\n",
       "      <td>5</td>\n",
       "      <td>217</td>\n",
       "      <td>Nenhum</td>\n",
       "      <td>False</td>\n",
       "      <td>False</td>\n",
       "      <td>False</td>\n",
       "      <td>True</td>\n",
       "    </tr>\n",
       "    <tr>\n",
       "      <th>6</th>\n",
       "      <td>1</td>\n",
       "      <td>1</td>\n",
       "      <td>5</td>\n",
       "      <td>218</td>\n",
       "      <td>Nenhum</td>\n",
       "      <td>False</td>\n",
       "      <td>False</td>\n",
       "      <td>False</td>\n",
       "      <td>True</td>\n",
       "    </tr>\n",
       "    <tr>\n",
       "      <th>8</th>\n",
       "      <td>1</td>\n",
       "      <td>7</td>\n",
       "      <td>8</td>\n",
       "      <td>217</td>\n",
       "      <td>Nenhum</td>\n",
       "      <td>True</td>\n",
       "      <td>True</td>\n",
       "      <td>False</td>\n",
       "      <td>True</td>\n",
       "    </tr>\n",
       "  </tbody>\n",
       "</table>\n",
       "</div>"
      ],
      "text/plain": [
       "   Mês  Tipo ataque  Tipo arma  País Atingidos  Ataque acima da media  \\\n",
       "0    7            1         13    58    Poucos                  False   \n",
       "2    1            1         13   160    Poucos                  False   \n",
       "5    1            2          5   217    Nenhum                  False   \n",
       "6    1            1          5   218    Nenhum                  False   \n",
       "8    1            7          8   217    Nenhum                   True   \n",
       "\n",
       "   Arma acima da media  Mês acima da média  País acima da media  \n",
       "0                 True                True                False  \n",
       "2                 True               False                 True  \n",
       "5                False               False                 True  \n",
       "6                False               False                 True  \n",
       "8                 True               False                 True  "
      ]
     },
     "execution_count": 20,
     "metadata": {},
     "output_type": "execute_result"
    }
   ],
   "source": [
    "#Parte do random forest é criar colunas que dizem se o atentado em questão está acima ou abaixo da média para cada categoria\n",
    "\n",
    "data['Ataque acima da media'] = data['Tipo ataque'] > data['Tipo ataque'].mean()\n",
    "data['Arma acima da media'] = data['Tipo arma'] > data['Tipo arma'].mean()\n",
    "data['Mês acima da média'] = data['Mês'] > data['Mês'].mean()\n",
    "data['País acima da media'] = data['País'] > data['País'].mean()\n",
    "\n",
    "data.head()"
   ]
  },
  {
   "cell_type": "code",
   "execution_count": 21,
   "metadata": {},
   "outputs": [
    {
     "data": {
      "text/html": [
       "<div>\n",
       "<style scoped>\n",
       "    .dataframe tbody tr th:only-of-type {\n",
       "        vertical-align: middle;\n",
       "    }\n",
       "\n",
       "    .dataframe tbody tr th {\n",
       "        vertical-align: top;\n",
       "    }\n",
       "\n",
       "    .dataframe thead th {\n",
       "        text-align: right;\n",
       "    }\n",
       "</style>\n",
       "<table border=\"1\" class=\"dataframe\">\n",
       "  <thead>\n",
       "    <tr style=\"text-align: right;\">\n",
       "      <th></th>\n",
       "      <th>Mês</th>\n",
       "      <th>Tipo ataque</th>\n",
       "      <th>Tipo arma</th>\n",
       "      <th>País</th>\n",
       "      <th>Ataque acima da media</th>\n",
       "      <th>Arma acima da media</th>\n",
       "      <th>Mês acima da média</th>\n",
       "      <th>País acima da media</th>\n",
       "    </tr>\n",
       "  </thead>\n",
       "  <tbody>\n",
       "    <tr>\n",
       "      <th>Mês</th>\n",
       "      <td>1.000000</td>\n",
       "      <td>0.003926</td>\n",
       "      <td>0.006444</td>\n",
       "      <td>-0.007687</td>\n",
       "      <td>0.002051</td>\n",
       "      <td>0.004962</td>\n",
       "      <td>0.864526</td>\n",
       "      <td>-0.005566</td>\n",
       "    </tr>\n",
       "    <tr>\n",
       "      <th>Tipo ataque</th>\n",
       "      <td>0.003926</td>\n",
       "      <td>1.000000</td>\n",
       "      <td>0.614272</td>\n",
       "      <td>0.008527</td>\n",
       "      <td>0.895049</td>\n",
       "      <td>0.635753</td>\n",
       "      <td>0.003410</td>\n",
       "      <td>-0.025182</td>\n",
       "    </tr>\n",
       "    <tr>\n",
       "      <th>Tipo arma</th>\n",
       "      <td>0.006444</td>\n",
       "      <td>0.614272</td>\n",
       "      <td>1.000000</td>\n",
       "      <td>-0.010581</td>\n",
       "      <td>0.577366</td>\n",
       "      <td>0.849560</td>\n",
       "      <td>0.006741</td>\n",
       "      <td>-0.023737</td>\n",
       "    </tr>\n",
       "    <tr>\n",
       "      <th>País</th>\n",
       "      <td>-0.007687</td>\n",
       "      <td>0.008527</td>\n",
       "      <td>-0.010581</td>\n",
       "      <td>1.000000</td>\n",
       "      <td>0.027287</td>\n",
       "      <td>0.033998</td>\n",
       "      <td>-0.004147</td>\n",
       "      <td>0.642636</td>\n",
       "    </tr>\n",
       "    <tr>\n",
       "      <th>Ataque acima da media</th>\n",
       "      <td>0.002051</td>\n",
       "      <td>0.895049</td>\n",
       "      <td>0.577366</td>\n",
       "      <td>0.027287</td>\n",
       "      <td>1.000000</td>\n",
       "      <td>0.698088</td>\n",
       "      <td>0.001375</td>\n",
       "      <td>0.010644</td>\n",
       "    </tr>\n",
       "    <tr>\n",
       "      <th>Arma acima da media</th>\n",
       "      <td>0.004962</td>\n",
       "      <td>0.635753</td>\n",
       "      <td>0.849560</td>\n",
       "      <td>0.033998</td>\n",
       "      <td>0.698088</td>\n",
       "      <td>1.000000</td>\n",
       "      <td>0.004886</td>\n",
       "      <td>0.012192</td>\n",
       "    </tr>\n",
       "    <tr>\n",
       "      <th>Mês acima da média</th>\n",
       "      <td>0.864526</td>\n",
       "      <td>0.003410</td>\n",
       "      <td>0.006741</td>\n",
       "      <td>-0.004147</td>\n",
       "      <td>0.001375</td>\n",
       "      <td>0.004886</td>\n",
       "      <td>1.000000</td>\n",
       "      <td>-0.003610</td>\n",
       "    </tr>\n",
       "    <tr>\n",
       "      <th>País acima da media</th>\n",
       "      <td>-0.005566</td>\n",
       "      <td>-0.025182</td>\n",
       "      <td>-0.023737</td>\n",
       "      <td>0.642636</td>\n",
       "      <td>0.010644</td>\n",
       "      <td>0.012192</td>\n",
       "      <td>-0.003610</td>\n",
       "      <td>1.000000</td>\n",
       "    </tr>\n",
       "  </tbody>\n",
       "</table>\n",
       "</div>"
      ],
      "text/plain": [
       "                            Mês  Tipo ataque  Tipo arma      País  \\\n",
       "Mês                    1.000000     0.003926   0.006444 -0.007687   \n",
       "Tipo ataque            0.003926     1.000000   0.614272  0.008527   \n",
       "Tipo arma              0.006444     0.614272   1.000000 -0.010581   \n",
       "País                  -0.007687     0.008527  -0.010581  1.000000   \n",
       "Ataque acima da media  0.002051     0.895049   0.577366  0.027287   \n",
       "Arma acima da media    0.004962     0.635753   0.849560  0.033998   \n",
       "Mês acima da média     0.864526     0.003410   0.006741 -0.004147   \n",
       "País acima da media   -0.005566    -0.025182  -0.023737  0.642636   \n",
       "\n",
       "                       Ataque acima da media  Arma acima da media  \\\n",
       "Mês                                 0.002051             0.004962   \n",
       "Tipo ataque                         0.895049             0.635753   \n",
       "Tipo arma                           0.577366             0.849560   \n",
       "País                                0.027287             0.033998   \n",
       "Ataque acima da media               1.000000             0.698088   \n",
       "Arma acima da media                 0.698088             1.000000   \n",
       "Mês acima da média                  0.001375             0.004886   \n",
       "País acima da media                 0.010644             0.012192   \n",
       "\n",
       "                       Mês acima da média  País acima da media  \n",
       "Mês                              0.864526            -0.005566  \n",
       "Tipo ataque                      0.003410            -0.025182  \n",
       "Tipo arma                        0.006741            -0.023737  \n",
       "País                            -0.004147             0.642636  \n",
       "Ataque acima da media            0.001375             0.010644  \n",
       "Arma acima da media              0.004886             0.012192  \n",
       "Mês acima da média               1.000000            -0.003610  \n",
       "País acima da media             -0.003610             1.000000  "
      ]
     },
     "execution_count": 21,
     "metadata": {},
     "output_type": "execute_result"
    }
   ],
   "source": [
    "#A correlação entre cada um dos atributos é plotada a seguir\n",
    "\n",
    "data.corr()"
   ]
  },
  {
   "cell_type": "code",
   "execution_count": 22,
   "metadata": {},
   "outputs": [],
   "source": [
    "#Separando o dataset em treinamento e em teste\n",
    "\n",
    "data_Treinamento=data.head(100000)\n",
    "data_Teste = data.tail(136339 - 100000)"
   ]
  },
  {
   "cell_type": "code",
   "execution_count": 23,
   "metadata": {},
   "outputs": [],
   "source": [
    "#Estabelecendo os features (quais colunas vão ser usadas para a predição)\n",
    "\n",
    "features = data_Treinamento.columns.difference(['Atingidos'])"
   ]
  },
  {
   "cell_type": "code",
   "execution_count": 24,
   "metadata": {},
   "outputs": [
    {
     "name": "stdout",
     "output_type": "stream",
     "text": [
      "Index(['Arma acima da media', 'Ataque acima da media', 'Mês',\n",
      "       'Mês acima da média', 'País', 'País acima da media', 'Tipo arma',\n",
      "       'Tipo ataque'],\n",
      "      dtype='object')\n"
     ]
    }
   ],
   "source": [
    "#Estabelecendo que os features vão estabelecer a quantidade de atingidos no treinamento\n",
    "\n",
    "x = data_Treinamento[features].values\n",
    "y = data_Treinamento['Atingidos'].values\n",
    "\n",
    "xt = data_Teste[features].values\n",
    "yt = data_Teste['Atingidos'].values\n",
    "\n",
    "x1 = data[features].values\n",
    "y1 = data['Atingidos'].values\n",
    "\n",
    "print(features)"
   ]
  },
  {
   "cell_type": "code",
   "execution_count": 25,
   "metadata": {},
   "outputs": [
    {
     "data": {
      "text/plain": [
       "DecisionTreeClassifier(class_weight=None, criterion='gini', max_depth=4,\n",
       "            max_features=None, max_leaf_nodes=None,\n",
       "            min_impurity_decrease=0.0, min_impurity_split=None,\n",
       "            min_samples_leaf=1, min_samples_split=2,\n",
       "            min_weight_fraction_leaf=0.0, presort=False, random_state=1986,\n",
       "            splitter='best')"
      ]
     },
     "execution_count": 25,
     "metadata": {},
     "output_type": "execute_result"
    }
   ],
   "source": [
    "classifier_data = DecisionTreeClassifier(random_state=1986, criterion='gini', max_depth=4)\n",
    "classifier_data.fit(x, y)"
   ]
  },
  {
   "cell_type": "markdown",
   "metadata": {},
   "source": [
    "## Cross validation:"
   ]
  },
  {
   "cell_type": "code",
   "execution_count": 26,
   "metadata": {},
   "outputs": [
    {
     "name": "stdout",
     "output_type": "stream",
     "text": [
      "0.7430991861950558\n"
     ]
    }
   ],
   "source": [
    "#Medindo a acurácia geral\n",
    "\n",
    "scores_data = cross_val_score(classifier_data, x, y, scoring='accuracy', cv=5)\n",
    "print(scores_data.mean())"
   ]
  },
  {
   "cell_type": "markdown",
   "metadata": {},
   "source": [
    "## Random Forest:"
   ]
  },
  {
   "cell_type": "code",
   "execution_count": 27,
   "metadata": {},
   "outputs": [
    {
     "name": "stdout",
     "output_type": "stream",
     "text": [
      "0.7329865351660232\n"
     ]
    }
   ],
   "source": [
    "#Medindo a acurácia com random forest\n",
    "\n",
    "classifier_rf = RandomForestClassifier(random_state=1986, n_estimators=100, max_depth=12, n_jobs=-1)\n",
    "classifier_rf.fit(x, y)\n",
    "\n",
    "scores_rf = cross_val_score(classifier_rf, xt, yt, scoring='accuracy', cv=5)\n",
    "print(scores_rf.mean())"
   ]
  },
  {
   "cell_type": "markdown",
   "metadata": {},
   "source": [
    "## Feature importance:"
   ]
  },
  {
   "cell_type": "code",
   "execution_count": 28,
   "metadata": {
    "scrolled": true
   },
   "outputs": [
    {
     "name": "stdout",
     "output_type": "stream",
     "text": [
      "País: 35.755161%\n",
      "Tipo ataque: 28.470104%\n",
      "Tipo arma: 22.973655%\n",
      "Ataque acima da media: 4.779441%\n",
      "Arma acima da media: 3.091207%\n",
      "Mês: 2.537431%\n",
      "País acima da media: 2.208579%\n",
      "Mês acima da média: 0.184422%\n"
     ]
    }
   ],
   "source": [
    "#Estabelencendo a importância de cada feature no número de atingidos no dataset inteiro\n",
    "\n",
    "classifier_rf.fit(x1, y1)  \n",
    "\n",
    "features_importance = zip(classifier_rf.feature_importances_, features)\n",
    "for importance, feature in sorted(features_importance, reverse=True):\n",
    "    print(\"%s: %f%%\" % (feature, importance*100))"
   ]
  },
  {
   "cell_type": "markdown",
   "metadata": {},
   "source": [
    "## Respondendo a pergunta: \n",
    "A pergunta a ser respondida por esse trabalho é: se houver um ataque terrorista no dia da posse presidencial de Jair Bolsonaro, dado que seria um ataque armado apenas com armas de fogo, quantas pessoas serão atingidas pelo atentado?\n",
    "\n",
    "Para responder tal pergunta, é necessário criar uma situação levando em conta os seguintes features: Mês, Tipo de ataque, Tipo de arma,\tPaís, Ataque acima da média, Arma acima da média, Mês acima da média e País acima da média. Adequando à situação da pergunta, os features seriam 1 (pois aconteceria em janeiro), 2 (pois seria um ataque armado), 5 (pois haveriam armas de fogo), 30 (pois ocorreria no Brasil) e False para os 4 seguintes atributos, pois todos os valores se encontram abaixo das respectivas médias."
   ]
  },
  {
   "cell_type": "code",
   "execution_count": 29,
   "metadata": {},
   "outputs": [],
   "source": [
    "#Inserindo os valores acima em uma váriavel (bolso)\n",
    "\n",
    "bolso = [1,2,5,30,False, False, False, False]"
   ]
  },
  {
   "cell_type": "code",
   "execution_count": 30,
   "metadata": {},
   "outputs": [
    {
     "name": "stdout",
     "output_type": "stream",
     "text": [
      "Teria ['Poucos'] atingidos\n"
     ]
    }
   ],
   "source": [
    "#Fazendo o fit para o dataset de treinamento e prevendo a situação \"bolso\"\n",
    "classifier_rf.fit(x, y)\n",
    "\n",
    "a = classifier_rf.predict([bolso])\n",
    "print(\"Teria {0} atingidos\".format(a))"
   ]
  },
  {
   "cell_type": "markdown",
   "metadata": {},
   "source": [
    "# Futuras iterações:"
   ]
  },
  {
   "cell_type": "markdown",
   "metadata": {},
   "source": [
    "Para próximas iterações seria adequado tentar novos métodos de classificação como o svc. Além disso, para melhorar a acurácia e obter uma melhor resposta acerca da pergunta seria interessante utilizar um dataset um pouco mais específico já que o utilizado é muito abrangente no que se diz respeito as variaveis qualitativas. Uma outra maneira de conseguir um melhor resultado de acordo com o cenário construido seria usar dados da segurança pública brasileira, pois dessa maneira seria possivel analisar de forma mais concreta o contexto brasileiro."
   ]
  },
  {
   "cell_type": "markdown",
   "metadata": {},
   "source": [
    "# Conclusão:"
   ]
  },
  {
   "cell_type": "markdown",
   "metadata": {},
   "source": [
    "Após realizar o teste utilizando o método do random forest, foi possível obter uma acurácia de aproximadamente 70%, ou seja, a chance do programa prever corretamente o numero de atingidos (mortos + feridos) levando em conta o mês, o pais, o tipo de arma, e tipo de ataque é de 70%. Número este que representa uma alta probabilidade da previsão estar correta.\n",
    "\n",
    "De posse de uma boa acurácia pode-se responder a pergunta, se houver um ataque terrorista no dia da posse presidencial de Jair Bolsonaro, dado que seria um ataque armado apenas com armas de fogo, quantas pessoas serão atingidas pelo atentado? Se obteve com resultado de que poucas pessoas (entre 1 e 50) seriam atingidas no suposto atentado."
   ]
  },
  {
   "cell_type": "code",
   "execution_count": null,
   "metadata": {},
   "outputs": [],
   "source": []
  }
 ],
 "metadata": {
  "kernelspec": {
   "display_name": "Python 3",
   "language": "python",
   "name": "python3"
  },
  "language_info": {
   "codemirror_mode": {
    "name": "ipython",
    "version": 3
   },
   "file_extension": ".py",
   "mimetype": "text/x-python",
   "name": "python",
   "nbconvert_exporter": "python",
   "pygments_lexer": "ipython3",
   "version": "3.6.4"
  }
 },
 "nbformat": 4,
 "nbformat_minor": 2
}
